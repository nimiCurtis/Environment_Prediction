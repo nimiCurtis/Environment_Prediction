{
 "cells": [
  {
   "cell_type": "code",
   "execution_count": 1,
   "metadata": {},
   "outputs": [],
   "source": [
    "import numpy as np\n",
    "import h5py"
   ]
  },
  {
   "cell_type": "code",
   "execution_count": 3,
   "metadata": {},
   "outputs": [],
   "source": [
    "d1 = np.random.random(size = (1000,20))\n",
    "d2 = np.random.random(size = (1000,200))"
   ]
  },
  {
   "cell_type": "code",
   "execution_count": 10,
   "metadata": {},
   "outputs": [],
   "source": [
    "hf = h5py.File('data.h51', 'w')\n",
    "g1 = hf.create_group('group1')\n",
    "g1.create_dataset('dataset_1', data=d1)\n",
    "g1.create_dataset('dataset_2', data=d2)\n",
    "hf.close()"
   ]
  },
  {
   "cell_type": "code",
   "execution_count": 8,
   "metadata": {},
   "outputs": [],
   "source": [
    "hf = h5py.File('/home/zion/py3.7_ws/dev/Environment_Prediction/dataset/metadata_2022_10_10-18_31_24/depth_data_2022_10_10-18_31_24.hdf5', 'r')"
   ]
  },
  {
   "cell_type": "code",
   "execution_count": 11,
   "metadata": {},
   "outputs": [
    {
     "data": {
      "text/plain": [
       "array([[      nan,       nan,       nan, ..., 1226.2356, 1226.0022,\n",
       "        1222.6176],\n",
       "       [      nan,       nan,       nan, ..., 1226.2749, 1223.3123,\n",
       "        1222.3289],\n",
       "       [      nan,       nan,       nan, ..., 1225.4177, 1222.656 ,\n",
       "        1221.5121],\n",
       "       ...,\n",
       "       [      nan,       nan,       nan, ..., 1266.0442, 1253.9302,\n",
       "        1253.7173],\n",
       "       [      nan,       nan,       nan, ..., 1266.0442, 1253.9207,\n",
       "        1253.7169],\n",
       "       [      nan,       nan,       nan, ..., 1266.0437, 1253.7169,\n",
       "        1253.7169]], dtype=float32)"
      ]
     },
     "execution_count": 11,
     "metadata": {},
     "output_type": "execute_result"
    }
   ],
   "source": [
    "n1 = hf.get('depth_vals')\n",
    "n1[:,:,5]"
   ]
  }
 ],
 "metadata": {
  "kernelspec": {
   "display_name": "Python 3.7.5 ('py3.7_venv')",
   "language": "python",
   "name": "python3"
  },
  "language_info": {
   "codemirror_mode": {
    "name": "ipython",
    "version": 3
   },
   "file_extension": ".py",
   "mimetype": "text/x-python",
   "name": "python",
   "nbconvert_exporter": "python",
   "pygments_lexer": "ipython3",
   "version": "3.7.5"
  },
  "orig_nbformat": 4,
  "vscode": {
   "interpreter": {
    "hash": "dc2c9e41bc53a896a2f25abdf5b6f439414da1f2108a3015ca704573f5c62be5"
   }
  }
 },
 "nbformat": 4,
 "nbformat_minor": 2
}
